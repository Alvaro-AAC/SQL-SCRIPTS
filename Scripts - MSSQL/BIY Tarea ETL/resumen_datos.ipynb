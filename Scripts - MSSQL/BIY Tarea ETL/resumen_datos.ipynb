{
    "metadata": {
        "kernelspec": {
            "name": "SQL",
            "display_name": "SQL",
            "language": "sql"
        },
        "language_info": {
            "name": "sql",
            "version": ""
        }
    },
    "nbformat_minor": 2,
    "nbformat": 4,
    "cells": [
        {
            "cell_type": "code",
            "source": [
                "USE Albarran_DW;"
            ],
            "metadata": {
                "azdata_cell_guid": "ae4ae562-9b09-46c9-b44c-35b66f186f3e",
                "language": "sql"
            },
            "outputs": [
                {
                    "output_type": "display_data",
                    "data": {
                        "text/html": "Commands completed successfully."
                    },
                    "metadata": {}
                },
                {
                    "output_type": "display_data",
                    "data": {
                        "text/html": "Total execution time: 00:00:00.086"
                    },
                    "metadata": {}
                }
            ],
            "execution_count": 1
        },
        {
            "cell_type": "code",
            "source": [
                "SELECT\r\n",
                "    aa.nombre_mes AS nombre_mes_actual,\r\n",
                "    aa.numero_mes AS numero_mes_actual,\r\n",
                "    aa.ventas AS ventas_actual,\r\n",
                "    aa.cantidad AS cantidad_actual,\r\n",
                "    bb.numero_mes AS numero_mes_anterior,\r\n",
                "    bb.nombre_mes AS nombre_mes_anterior,\r\n",
                "    bb.ventas AS ventas_anterior,\r\n",
                "    bb.cantidad AS cantidad_anterior\r\n",
                "FROM\r\n",
                "    (SELECT\r\n",
                "        c.nombre_mes,\r\n",
                "        c.numero_mes,\r\n",
                "        SUM(a.precio) AS ventas,\r\n",
                "        SUM(a.cantidad) AS cantidad\r\n",
                "    FROM FACT_VENTA AS a\r\n",
                "    JOIN DIM_FECHA AS b\r\n",
                "    ON a.id_fecha = b.id_fecha\r\n",
                "    JOIN DIM_MES AS c\r\n",
                "    ON b.id_mes = c.id_mes\r\n",
                "    GROUP BY numero_mes, nombre_mes) AS aa\r\n",
                "LEFT JOIN \r\n",
                "    (SELECT\r\n",
                "        c.nombre_mes,\r\n",
                "        c.numero_mes,\r\n",
                "        SUM(a.precio) AS ventas,\r\n",
                "        SUM(a.cantidad) AS cantidad\r\n",
                "    FROM FACT_VENTA AS a\r\n",
                "    JOIN DIM_FECHA AS b\r\n",
                "    ON a.id_fecha = b.id_fecha\r\n",
                "    JOIN DIM_MES AS c\r\n",
                "    ON b.id_mes = c.id_mes\r\n",
                "    GROUP BY numero_mes, nombre_mes) AS bb\r\n",
                "ON aa.numero_mes-1 = bb.numero_mes\r\n",
                "ORDER BY 2\r\n",
                ";"
            ],
            "metadata": {
                "language": "sql",
                "azdata_cell_guid": "f1a87e8e-1656-4429-b74a-66ea41a5092b"
            },
            "outputs": [
                {
                    "output_type": "display_data",
                    "data": {
                        "text/html": "(12 rows affected)"
                    },
                    "metadata": {}
                },
                {
                    "output_type": "display_data",
                    "data": {
                        "text/html": "Total execution time: 00:00:00.123"
                    },
                    "metadata": {}
                },
                {
                    "output_type": "execute_result",
                    "metadata": {},
                    "execution_count": 2,
                    "data": {
                        "application/vnd.dataresource+json": {
                            "schema": {
                                "fields": [
                                    {
                                        "name": "nombre_mes_actual"
                                    },
                                    {
                                        "name": "numero_mes_actual"
                                    },
                                    {
                                        "name": "ventas_actual"
                                    },
                                    {
                                        "name": "cantidad_actual"
                                    },
                                    {
                                        "name": "numero_mes_anterior"
                                    },
                                    {
                                        "name": "nombre_mes_anterior"
                                    },
                                    {
                                        "name": "ventas_anterior"
                                    },
                                    {
                                        "name": "cantidad_anterior"
                                    }
                                ]
                            },
                            "data": [
                                {
                                    "nombre_mes_actual": "Enero",
                                    "numero_mes_actual": "1",
                                    "ventas_actual": "13869696",
                                    "cantidad_actual": "49",
                                    "numero_mes_anterior": "NULL",
                                    "nombre_mes_anterior": "NULL",
                                    "ventas_anterior": "NULL",
                                    "cantidad_anterior": "NULL"
                                },
                                {
                                    "nombre_mes_actual": "Febrero",
                                    "numero_mes_actual": "2",
                                    "ventas_actual": "18157496",
                                    "cantidad_actual": "54",
                                    "numero_mes_anterior": "1",
                                    "nombre_mes_anterior": "Enero",
                                    "ventas_anterior": "13869696",
                                    "cantidad_anterior": "49"
                                },
                                {
                                    "nombre_mes_actual": "Marzo",
                                    "numero_mes_actual": "3",
                                    "ventas_actual": "16758697",
                                    "cantidad_actual": "67",
                                    "numero_mes_anterior": "2",
                                    "nombre_mes_anterior": "Febrero",
                                    "ventas_anterior": "18157496",
                                    "cantidad_anterior": "54"
                                },
                                {
                                    "nombre_mes_actual": "Abril",
                                    "numero_mes_actual": "4",
                                    "ventas_actual": "21388097",
                                    "cantidad_actual": "79",
                                    "numero_mes_anterior": "3",
                                    "nombre_mes_anterior": "Marzo",
                                    "ventas_anterior": "16758697",
                                    "cantidad_anterior": "67"
                                },
                                {
                                    "nombre_mes_actual": "Mayo",
                                    "numero_mes_actual": "5",
                                    "ventas_actual": "17143700",
                                    "cantidad_actual": "56",
                                    "numero_mes_anterior": "4",
                                    "nombre_mes_anterior": "Abril",
                                    "ventas_anterior": "21388097",
                                    "cantidad_anterior": "79"
                                },
                                {
                                    "nombre_mes_actual": "Junio",
                                    "numero_mes_actual": "6",
                                    "ventas_actual": "15335897",
                                    "cantidad_actual": "57",
                                    "numero_mes_anterior": "5",
                                    "nombre_mes_anterior": "Mayo",
                                    "ventas_anterior": "17143700",
                                    "cantidad_anterior": "56"
                                },
                                {
                                    "nombre_mes_actual": "Julio",
                                    "numero_mes_actual": "7",
                                    "ventas_actual": "23527798",
                                    "cantidad_actual": "82",
                                    "numero_mes_anterior": "6",
                                    "nombre_mes_anterior": "Junio",
                                    "ventas_anterior": "15335897",
                                    "cantidad_anterior": "57"
                                },
                                {
                                    "nombre_mes_actual": "Agosto",
                                    "numero_mes_actual": "8",
                                    "ventas_actual": "19589298",
                                    "cantidad_actual": "75",
                                    "numero_mes_anterior": "7",
                                    "nombre_mes_anterior": "Julio",
                                    "ventas_anterior": "23527798",
                                    "cantidad_anterior": "82"
                                },
                                {
                                    "nombre_mes_actual": "Septiembre",
                                    "numero_mes_actual": "9",
                                    "ventas_actual": "13291998",
                                    "cantidad_actual": "39",
                                    "numero_mes_anterior": "8",
                                    "nombre_mes_anterior": "Agosto",
                                    "ventas_anterior": "19589298",
                                    "cantidad_anterior": "75"
                                },
                                {
                                    "nombre_mes_actual": "Octubre",
                                    "numero_mes_actual": "10",
                                    "ventas_actual": "19637899",
                                    "cantidad_actual": "68",
                                    "numero_mes_anterior": "9",
                                    "nombre_mes_anterior": "Septiembre",
                                    "ventas_anterior": "13291998",
                                    "cantidad_anterior": "39"
                                },
                                {
                                    "nombre_mes_actual": "Noviembre",
                                    "numero_mes_actual": "11",
                                    "ventas_actual": "12777898",
                                    "cantidad_actual": "42",
                                    "numero_mes_anterior": "10",
                                    "nombre_mes_anterior": "Octubre",
                                    "ventas_anterior": "19637899",
                                    "cantidad_anterior": "68"
                                },
                                {
                                    "nombre_mes_actual": "Diciembre",
                                    "numero_mes_actual": "12",
                                    "ventas_actual": "18515699",
                                    "cantidad_actual": "56",
                                    "numero_mes_anterior": "11",
                                    "nombre_mes_anterior": "Noviembre",
                                    "ventas_anterior": "12777898",
                                    "cantidad_anterior": "42"
                                }
                            ]
                        },
                        "text/html": [
                            "<table>",
                            "<tr><th>nombre_mes_actual</th><th>numero_mes_actual</th><th>ventas_actual</th><th>cantidad_actual</th><th>numero_mes_anterior</th><th>nombre_mes_anterior</th><th>ventas_anterior</th><th>cantidad_anterior</th></tr>",
                            "<tr><td>Enero</td><td>1</td><td>13869696</td><td>49</td><td>NULL</td><td>NULL</td><td>NULL</td><td>NULL</td></tr>",
                            "<tr><td>Febrero</td><td>2</td><td>18157496</td><td>54</td><td>1</td><td>Enero</td><td>13869696</td><td>49</td></tr>",
                            "<tr><td>Marzo</td><td>3</td><td>16758697</td><td>67</td><td>2</td><td>Febrero</td><td>18157496</td><td>54</td></tr>",
                            "<tr><td>Abril</td><td>4</td><td>21388097</td><td>79</td><td>3</td><td>Marzo</td><td>16758697</td><td>67</td></tr>",
                            "<tr><td>Mayo</td><td>5</td><td>17143700</td><td>56</td><td>4</td><td>Abril</td><td>21388097</td><td>79</td></tr>",
                            "<tr><td>Junio</td><td>6</td><td>15335897</td><td>57</td><td>5</td><td>Mayo</td><td>17143700</td><td>56</td></tr>",
                            "<tr><td>Julio</td><td>7</td><td>23527798</td><td>82</td><td>6</td><td>Junio</td><td>15335897</td><td>57</td></tr>",
                            "<tr><td>Agosto</td><td>8</td><td>19589298</td><td>75</td><td>7</td><td>Julio</td><td>23527798</td><td>82</td></tr>",
                            "<tr><td>Septiembre</td><td>9</td><td>13291998</td><td>39</td><td>8</td><td>Agosto</td><td>19589298</td><td>75</td></tr>",
                            "<tr><td>Octubre</td><td>10</td><td>19637899</td><td>68</td><td>9</td><td>Septiembre</td><td>13291998</td><td>39</td></tr>",
                            "<tr><td>Noviembre</td><td>11</td><td>12777898</td><td>42</td><td>10</td><td>Octubre</td><td>19637899</td><td>68</td></tr>",
                            "<tr><td>Diciembre</td><td>12</td><td>18515699</td><td>56</td><td>11</td><td>Noviembre</td><td>12777898</td><td>42</td></tr>",
                            "</table>"
                        ]
                    }
                }
            ],
            "execution_count": 2
        },
        {
            "cell_type": "code",
            "source": [
                "DROP VIEW IF EXISTS VIEW_PERIODO_ANTERIOR\r\n",
                "GO\r\n",
                "CREATE VIEW VIEW_PERIODO_ANTERIOR AS\r\n",
                "SELECT\r\n",
                "    aa.nombre_mes AS nombre_mes_actual,\r\n",
                "    aa.numero_mes AS numero_mes_actual,\r\n",
                "    aa.ventas AS ventas_actual,\r\n",
                "    aa.cantidad AS cantidad_actual,\r\n",
                "    bb.numero_mes AS numero_mes_anterior,\r\n",
                "    bb.nombre_mes AS nombre_mes_anterior,\r\n",
                "    bb.ventas AS ventas_anterior,\r\n",
                "    bb.cantidad AS cantidad_anterior\r\n",
                "FROM\r\n",
                "    (SELECT\r\n",
                "        c.nombre_mes,\r\n",
                "        c.numero_mes,\r\n",
                "        SUM(a.precio) AS ventas,\r\n",
                "        SUM(a.cantidad) AS cantidad\r\n",
                "    FROM FACT_VENTA AS a\r\n",
                "    JOIN DIM_FECHA AS b\r\n",
                "    ON a.id_fecha = b.id_fecha\r\n",
                "    JOIN DIM_MES AS c\r\n",
                "    ON b.id_mes = c.id_mes\r\n",
                "    GROUP BY numero_mes, nombre_mes) AS aa\r\n",
                "JOIN \r\n",
                "    (SELECT\r\n",
                "        c.nombre_mes,\r\n",
                "        c.numero_mes,\r\n",
                "        SUM(a.precio) AS ventas,\r\n",
                "        SUM(a.cantidad) AS cantidad\r\n",
                "    FROM FACT_VENTA AS a\r\n",
                "    JOIN DIM_FECHA AS b\r\n",
                "    ON a.id_fecha = b.id_fecha\r\n",
                "    JOIN DIM_MES AS c\r\n",
                "    ON b.id_mes = c.id_mes\r\n",
                "    GROUP BY numero_mes, nombre_mes) AS bb\r\n",
                "ON aa.numero_mes-1 = bb.numero_mes\r\n",
                "GO"
            ],
            "metadata": {
                "language": "sql",
                "azdata_cell_guid": "eb9c0bed-a4b0-46a8-8773-30ce66b1bb5a",
                "tags": []
            },
            "outputs": [
                {
                    "output_type": "display_data",
                    "data": {
                        "text/html": "Commands completed successfully."
                    },
                    "metadata": {}
                },
                {
                    "output_type": "display_data",
                    "data": {
                        "text/html": "Commands completed successfully."
                    },
                    "metadata": {}
                },
                {
                    "output_type": "display_data",
                    "data": {
                        "text/html": "Total execution time: 00:00:00.134"
                    },
                    "metadata": {}
                }
            ],
            "execution_count": 3
        }
    ]
}