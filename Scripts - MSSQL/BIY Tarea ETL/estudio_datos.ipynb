{
    "metadata": {
        "kernelspec": {
            "name": "SQL",
            "display_name": "SQL",
            "language": "sql"
        },
        "language_info": {
            "name": "sql",
            "version": ""
        }
    },
    "nbformat_minor": 2,
    "nbformat": 4,
    "cells": [
        {
            "cell_type": "code",
            "source": [
                "SELECT\r\n",
                "    [b].[mes]\r\n",
                "    ,[c].[Familia]\r\n",
                "    ,SUM([a].[Cantidad]) AS [CantidadVendida]\r\n",
                "    ,SUM([a].[Total])  AS [TotalVendido]\r\n",
                "FROM [Americans_DW].[dbo].[FACT_DetalleVenta] AS [a]\r\n",
                "JOIN [Americans_DW].[dbo].[DIM_Fecha] AS [b] \r\n",
                "    ON [a].[FechaID] = [b].[FechaID]\r\n",
                "JOIN [Americans_DW].[dbo].[DIM_Articulo] AS [c] \r\n",
                "    ON [a].[ArticuloID] = [c].[ArticuloID]\r\n",
                "GROUP BY [b].[mes], [c].[Familia]\r\n",
                "ORDER BY [b].[Mes], [TotalVendido], [CantidadVendida]\r\n",
                ";"
            ],
            "metadata": {
                "azdata_cell_guid": "053a93fa-3214-4a75-a75a-f7c2bb513b98",
                "language": "sql",
                "tags": []
            },
            "outputs": [
                {
                    "output_type": "display_data",
                    "data": {
                        "text/html": "(60 rows affected)"
                    },
                    "metadata": {}
                },
                {
                    "output_type": "display_data",
                    "data": {
                        "text/html": "Total execution time: 00:00:00.537"
                    },
                    "metadata": {}
                },
                {
                    "output_type": "execute_result",
                    "execution_count": 1,
                    "data": {
                        "application/vnd.dataresource+json": {
                            "schema": {
                                "fields": [
                                    {
                                        "name": "mes"
                                    },
                                    {
                                        "name": "Familia"
                                    },
                                    {
                                        "name": "CantidadVendida"
                                    },
                                    {
                                        "name": "TotalVendido"
                                    }
                                ]
                            },
                            "data": [
                                {
                                    "mes": "1",
                                    "Familia": "HAMSTER",
                                    "CantidadVendida": "470",
                                    "TotalVendido": "13361476"
                                },
                                {
                                    "mes": "1",
                                    "Familia": "PECES",
                                    "CantidadVendida": "882",
                                    "TotalVendido": "13740595"
                                },
                                {
                                    "mes": "1",
                                    "Familia": "GATOS",
                                    "CantidadVendida": "746",
                                    "TotalVendido": "16273594"
                                },
                                {
                                    "mes": "1",
                                    "Familia": "AVES",
                                    "CantidadVendida": "881",
                                    "TotalVendido": "17894718"
                                },
                                {
                                    "mes": "1",
                                    "Familia": "PERROS",
                                    "CantidadVendida": "1786",
                                    "TotalVendido": "36963738"
                                },
                                {
                                    "mes": "2",
                                    "Familia": "HAMSTER",
                                    "CantidadVendida": "313",
                                    "TotalVendido": "8017492"
                                },
                                {
                                    "mes": "2",
                                    "Familia": "PECES",
                                    "CantidadVendida": "815",
                                    "TotalVendido": "12128136"
                                },
                                {
                                    "mes": "2",
                                    "Familia": "GATOS",
                                    "CantidadVendida": "686",
                                    "TotalVendido": "15472666"
                                },
                                {
                                    "mes": "2",
                                    "Familia": "AVES",
                                    "CantidadVendida": "794",
                                    "TotalVendido": "15565296"
                                },
                                {
                                    "mes": "2",
                                    "Familia": "PERROS",
                                    "CantidadVendida": "1667",
                                    "TotalVendido": "33180510"
                                },
                                {
                                    "mes": "3",
                                    "Familia": "HAMSTER",
                                    "CantidadVendida": "406",
                                    "TotalVendido": "10938161"
                                },
                                {
                                    "mes": "3",
                                    "Familia": "GATOS",
                                    "CantidadVendida": "708",
                                    "TotalVendido": "15477612"
                                },
                                {
                                    "mes": "3",
                                    "Familia": "PECES",
                                    "CantidadVendida": "1012",
                                    "TotalVendido": "15582358"
                                },
                                {
                                    "mes": "3",
                                    "Familia": "AVES",
                                    "CantidadVendida": "846",
                                    "TotalVendido": "16676327"
                                },
                                {
                                    "mes": "3",
                                    "Familia": "PERROS",
                                    "CantidadVendida": "1783",
                                    "TotalVendido": "36097447"
                                },
                                {
                                    "mes": "4",
                                    "Familia": "HAMSTER",
                                    "CantidadVendida": "334",
                                    "TotalVendido": "8551260"
                                },
                                {
                                    "mes": "4",
                                    "Familia": "PECES",
                                    "CantidadVendida": "729",
                                    "TotalVendido": "10990002"
                                },
                                {
                                    "mes": "4",
                                    "Familia": "GATOS",
                                    "CantidadVendida": "683",
                                    "TotalVendido": "15309317"
                                },
                                {
                                    "mes": "4",
                                    "Familia": "AVES",
                                    "CantidadVendida": "771",
                                    "TotalVendido": "17006743"
                                },
                                {
                                    "mes": "4",
                                    "Familia": "PERROS",
                                    "CantidadVendida": "1813",
                                    "TotalVendido": "35720272"
                                },
                                {
                                    "mes": "5",
                                    "Familia": "HAMSTER",
                                    "CantidadVendida": "405",
                                    "TotalVendido": "11136028"
                                },
                                {
                                    "mes": "5",
                                    "Familia": "GATOS",
                                    "CantidadVendida": "586",
                                    "TotalVendido": "13618828"
                                },
                                {
                                    "mes": "5",
                                    "Familia": "PECES",
                                    "CantidadVendida": "1016",
                                    "TotalVendido": "15790498"
                                },
                                {
                                    "mes": "5",
                                    "Familia": "AVES",
                                    "CantidadVendida": "883",
                                    "TotalVendido": "18022263"
                                },
                                {
                                    "mes": "5",
                                    "Familia": "PERROS",
                                    "CantidadVendida": "1980",
                                    "TotalVendido": "41507453"
                                },
                                {
                                    "mes": "6",
                                    "Familia": "HAMSTER",
                                    "CantidadVendida": "345",
                                    "TotalVendido": "9816426"
                                },
                                {
                                    "mes": "6",
                                    "Familia": "PECES",
                                    "CantidadVendida": "820",
                                    "TotalVendido": "12971256"
                                },
                                {
                                    "mes": "6",
                                    "Familia": "GATOS",
                                    "CantidadVendida": "591",
                                    "TotalVendido": "13636085"
                                },
                                {
                                    "mes": "6",
                                    "Familia": "AVES",
                                    "CantidadVendida": "740",
                                    "TotalVendido": "15878052"
                                },
                                {
                                    "mes": "6",
                                    "Familia": "PERROS",
                                    "CantidadVendida": "1827",
                                    "TotalVendido": "36964549"
                                },
                                {
                                    "mes": "7",
                                    "Familia": "HAMSTER",
                                    "CantidadVendida": "386",
                                    "TotalVendido": "10482493"
                                },
                                {
                                    "mes": "7",
                                    "Familia": "GATOS",
                                    "CantidadVendida": "665",
                                    "TotalVendido": "13913043"
                                },
                                {
                                    "mes": "7",
                                    "Familia": "PECES",
                                    "CantidadVendida": "958",
                                    "TotalVendido": "14196521"
                                },
                                {
                                    "mes": "7",
                                    "Familia": "AVES",
                                    "CantidadVendida": "795",
                                    "TotalVendido": "16962627"
                                },
                                {
                                    "mes": "7",
                                    "Familia": "PERROS",
                                    "CantidadVendida": "2229",
                                    "TotalVendido": "45104723"
                                },
                                {
                                    "mes": "8",
                                    "Familia": "PECES",
                                    "CantidadVendida": "771",
                                    "TotalVendido": "11667858"
                                },
                                {
                                    "mes": "8",
                                    "Familia": "HAMSTER",
                                    "CantidadVendida": "462",
                                    "TotalVendido": "12478095"
                                },
                                {
                                    "mes": "8",
                                    "Familia": "GATOS",
                                    "CantidadVendida": "670",
                                    "TotalVendido": "14404317"
                                },
                                {
                                    "mes": "8",
                                    "Familia": "AVES",
                                    "CantidadVendida": "823",
                                    "TotalVendido": "18029479"
                                },
                                {
                                    "mes": "8",
                                    "Familia": "PERROS",
                                    "CantidadVendida": "2008",
                                    "TotalVendido": "41456174"
                                },
                                {
                                    "mes": "9",
                                    "Familia": "HAMSTER",
                                    "CantidadVendida": "318",
                                    "TotalVendido": "8130613"
                                },
                                {
                                    "mes": "9",
                                    "Familia": "GATOS",
                                    "CantidadVendida": "580",
                                    "TotalVendido": "12940079"
                                },
                                {
                                    "mes": "9",
                                    "Familia": "PECES",
                                    "CantidadVendida": "872",
                                    "TotalVendido": "12962545"
                                },
                                {
                                    "mes": "9",
                                    "Familia": "AVES",
                                    "CantidadVendida": "683",
                                    "TotalVendido": "14212723"
                                },
                                {
                                    "mes": "9",
                                    "Familia": "PERROS",
                                    "CantidadVendida": "1729",
                                    "TotalVendido": "33635767"
                                },
                                {
                                    "mes": "10",
                                    "Familia": "HAMSTER",
                                    "CantidadVendida": "471",
                                    "TotalVendido": "12470015"
                                },
                                {
                                    "mes": "10",
                                    "Familia": "PECES",
                                    "CantidadVendida": "822",
                                    "TotalVendido": "13170952"
                                },
                                {
                                    "mes": "10",
                                    "Familia": "GATOS",
                                    "CantidadVendida": "892",
                                    "TotalVendido": "19699508"
                                },
                                {
                                    "mes": "10",
                                    "Familia": "AVES",
                                    "CantidadVendida": "919",
                                    "TotalVendido": "19985614"
                                },
                                {
                                    "mes": "10",
                                    "Familia": "PERROS",
                                    "CantidadVendida": "1778",
                                    "TotalVendido": "35956968"
                                },
                                {
                                    "mes": "11",
                                    "Familia": "HAMSTER",
                                    "CantidadVendida": "350",
                                    "TotalVendido": "10273134"
                                },
                                {
                                    "mes": "11",
                                    "Familia": "PECES",
                                    "CantidadVendida": "873",
                                    "TotalVendido": "13614004"
                                },
                                {
                                    "mes": "11",
                                    "Familia": "AVES",
                                    "CantidadVendida": "747",
                                    "TotalVendido": "15284984"
                                },
                                {
                                    "mes": "11",
                                    "Familia": "GATOS",
                                    "CantidadVendida": "724",
                                    "TotalVendido": "15811940"
                                },
                                {
                                    "mes": "11",
                                    "Familia": "PERROS",
                                    "CantidadVendida": "1670",
                                    "TotalVendido": "33967196"
                                },
                                {
                                    "mes": "12",
                                    "Familia": "GATOS",
                                    "CantidadVendida": "564",
                                    "TotalVendido": "11135179"
                                },
                                {
                                    "mes": "12",
                                    "Familia": "PECES",
                                    "CantidadVendida": "743",
                                    "TotalVendido": "11815186"
                                },
                                {
                                    "mes": "12",
                                    "Familia": "HAMSTER",
                                    "CantidadVendida": "450",
                                    "TotalVendido": "12418153"
                                },
                                {
                                    "mes": "12",
                                    "Familia": "AVES",
                                    "CantidadVendida": "914",
                                    "TotalVendido": "19703772"
                                },
                                {
                                    "mes": "12",
                                    "Familia": "PERROS",
                                    "CantidadVendida": "1823",
                                    "TotalVendido": "35425499"
                                }
                            ]
                        },
                        "text/html": "<table><tr><th>mes</th><th>Familia</th><th>CantidadVendida</th><th>TotalVendido</th></tr><tr><td>1</td><td>HAMSTER</td><td>470</td><td>13361476</td></tr><tr><td>1</td><td>PECES</td><td>882</td><td>13740595</td></tr><tr><td>1</td><td>GATOS</td><td>746</td><td>16273594</td></tr><tr><td>1</td><td>AVES</td><td>881</td><td>17894718</td></tr><tr><td>1</td><td>PERROS</td><td>1786</td><td>36963738</td></tr><tr><td>2</td><td>HAMSTER</td><td>313</td><td>8017492</td></tr><tr><td>2</td><td>PECES</td><td>815</td><td>12128136</td></tr><tr><td>2</td><td>GATOS</td><td>686</td><td>15472666</td></tr><tr><td>2</td><td>AVES</td><td>794</td><td>15565296</td></tr><tr><td>2</td><td>PERROS</td><td>1667</td><td>33180510</td></tr><tr><td>3</td><td>HAMSTER</td><td>406</td><td>10938161</td></tr><tr><td>3</td><td>GATOS</td><td>708</td><td>15477612</td></tr><tr><td>3</td><td>PECES</td><td>1012</td><td>15582358</td></tr><tr><td>3</td><td>AVES</td><td>846</td><td>16676327</td></tr><tr><td>3</td><td>PERROS</td><td>1783</td><td>36097447</td></tr><tr><td>4</td><td>HAMSTER</td><td>334</td><td>8551260</td></tr><tr><td>4</td><td>PECES</td><td>729</td><td>10990002</td></tr><tr><td>4</td><td>GATOS</td><td>683</td><td>15309317</td></tr><tr><td>4</td><td>AVES</td><td>771</td><td>17006743</td></tr><tr><td>4</td><td>PERROS</td><td>1813</td><td>35720272</td></tr><tr><td>5</td><td>HAMSTER</td><td>405</td><td>11136028</td></tr><tr><td>5</td><td>GATOS</td><td>586</td><td>13618828</td></tr><tr><td>5</td><td>PECES</td><td>1016</td><td>15790498</td></tr><tr><td>5</td><td>AVES</td><td>883</td><td>18022263</td></tr><tr><td>5</td><td>PERROS</td><td>1980</td><td>41507453</td></tr><tr><td>6</td><td>HAMSTER</td><td>345</td><td>9816426</td></tr><tr><td>6</td><td>PECES</td><td>820</td><td>12971256</td></tr><tr><td>6</td><td>GATOS</td><td>591</td><td>13636085</td></tr><tr><td>6</td><td>AVES</td><td>740</td><td>15878052</td></tr><tr><td>6</td><td>PERROS</td><td>1827</td><td>36964549</td></tr><tr><td>7</td><td>HAMSTER</td><td>386</td><td>10482493</td></tr><tr><td>7</td><td>GATOS</td><td>665</td><td>13913043</td></tr><tr><td>7</td><td>PECES</td><td>958</td><td>14196521</td></tr><tr><td>7</td><td>AVES</td><td>795</td><td>16962627</td></tr><tr><td>7</td><td>PERROS</td><td>2229</td><td>45104723</td></tr><tr><td>8</td><td>PECES</td><td>771</td><td>11667858</td></tr><tr><td>8</td><td>HAMSTER</td><td>462</td><td>12478095</td></tr><tr><td>8</td><td>GATOS</td><td>670</td><td>14404317</td></tr><tr><td>8</td><td>AVES</td><td>823</td><td>18029479</td></tr><tr><td>8</td><td>PERROS</td><td>2008</td><td>41456174</td></tr><tr><td>9</td><td>HAMSTER</td><td>318</td><td>8130613</td></tr><tr><td>9</td><td>GATOS</td><td>580</td><td>12940079</td></tr><tr><td>9</td><td>PECES</td><td>872</td><td>12962545</td></tr><tr><td>9</td><td>AVES</td><td>683</td><td>14212723</td></tr><tr><td>9</td><td>PERROS</td><td>1729</td><td>33635767</td></tr><tr><td>10</td><td>HAMSTER</td><td>471</td><td>12470015</td></tr><tr><td>10</td><td>PECES</td><td>822</td><td>13170952</td></tr><tr><td>10</td><td>GATOS</td><td>892</td><td>19699508</td></tr><tr><td>10</td><td>AVES</td><td>919</td><td>19985614</td></tr><tr><td>10</td><td>PERROS</td><td>1778</td><td>35956968</td></tr><tr><td>11</td><td>HAMSTER</td><td>350</td><td>10273134</td></tr><tr><td>11</td><td>PECES</td><td>873</td><td>13614004</td></tr><tr><td>11</td><td>AVES</td><td>747</td><td>15284984</td></tr><tr><td>11</td><td>GATOS</td><td>724</td><td>15811940</td></tr><tr><td>11</td><td>PERROS</td><td>1670</td><td>33967196</td></tr><tr><td>12</td><td>GATOS</td><td>564</td><td>11135179</td></tr><tr><td>12</td><td>PECES</td><td>743</td><td>11815186</td></tr><tr><td>12</td><td>HAMSTER</td><td>450</td><td>12418153</td></tr><tr><td>12</td><td>AVES</td><td>914</td><td>19703772</td></tr><tr><td>12</td><td>PERROS</td><td>1823</td><td>35425499</td></tr></table>"
                    },
                    "metadata": {}
                }
            ],
            "execution_count": 1
        },
        {
            "cell_type": "code",
            "source": [
                "SELECT\r\n",
                "    [c].[Familia]\r\n",
                "    ,SUM([a].[Cantidad]) AS [CantidadVendida]\r\n",
                "    ,SUM([a].[Total])  AS [TotalVendido]\r\n",
                "FROM [Americans_DW].[dbo].[FACT_DetalleVenta] AS [a]\r\n",
                "JOIN [Americans_DW].[dbo].[DIM_Fecha] AS [b] \r\n",
                "    ON [a].[FechaID] = [b].[FechaID]\r\n",
                "JOIN [Americans_DW].[dbo].[DIM_Articulo] AS [c] \r\n",
                "    ON [a].[ArticuloID] = [c].[ArticuloID]\r\n",
                "GROUP BY [c].[Familia]\r\n",
                "ORDER BY [c].[Familia], [TotalVendido], [CantidadVendida]\r\n",
                ";"
            ],
            "metadata": {
                "language": "sql",
                "azdata_cell_guid": "881ea55c-bcce-49e8-bbad-7dc590b12053"
            },
            "outputs": [
                {
                    "output_type": "display_data",
                    "data": {
                        "text/html": "(5 rows affected)"
                    },
                    "metadata": {}
                },
                {
                    "output_type": "display_data",
                    "data": {
                        "text/html": "Total execution time: 00:00:00.037"
                    },
                    "metadata": {}
                },
                {
                    "output_type": "execute_result",
                    "execution_count": 12,
                    "data": {
                        "application/vnd.dataresource+json": {
                            "schema": {
                                "fields": [
                                    {
                                        "name": "Familia"
                                    },
                                    {
                                        "name": "CantidadVendida"
                                    },
                                    {
                                        "name": "TotalVendido"
                                    }
                                ]
                            },
                            "data": [
                                {
                                    "Familia": "AVES",
                                    "CantidadVendida": "9796",
                                    "TotalVendido": "205222598"
                                },
                                {
                                    "Familia": "GATOS",
                                    "CantidadVendida": "8095",
                                    "TotalVendido": "177692168"
                                },
                                {
                                    "Familia": "HAMSTER",
                                    "CantidadVendida": "4710",
                                    "TotalVendido": "128073346"
                                },
                                {
                                    "Familia": "PECES",
                                    "CantidadVendida": "10313",
                                    "TotalVendido": "158629911"
                                },
                                {
                                    "Familia": "PERROS",
                                    "CantidadVendida": "22093",
                                    "TotalVendido": "445980296"
                                }
                            ]
                        },
                        "text/html": "<table><tr><th>Familia</th><th>CantidadVendida</th><th>TotalVendido</th></tr><tr><td>AVES</td><td>9796</td><td>205222598</td></tr><tr><td>GATOS</td><td>8095</td><td>177692168</td></tr><tr><td>HAMSTER</td><td>4710</td><td>128073346</td></tr><tr><td>PECES</td><td>10313</td><td>158629911</td></tr><tr><td>PERROS</td><td>22093</td><td>445980296</td></tr></table>"
                    },
                    "metadata": {}
                }
            ],
            "execution_count": 12
        },
        {
            "cell_type": "code",
            "source": [
                "SELECT\r\n",
                "    [b].[Mes]\r\n",
                "    ,SUM([a].[Cantidad]) AS [CantidadVendida]\r\n",
                "    ,SUM([a].[Total])  AS [TotalVendido]\r\n",
                "FROM [Americans_DW].[dbo].[FACT_DetalleVenta] AS [a]\r\n",
                "JOIN [Americans_DW].[dbo].[DIM_Fecha] AS [b] \r\n",
                "    ON [a].[FechaID] = [b].[FechaID]\r\n",
                "JOIN [Americans_DW].[dbo].[DIM_Articulo] AS [c] \r\n",
                "    ON [a].[ArticuloID] = [c].[ArticuloID]\r\n",
                "GROUP BY [b].[Mes]\r\n",
                "ORDER BY [b].[Mes], [TotalVendido], [CantidadVendida]\r\n",
                ";"
            ],
            "metadata": {
                "language": "sql",
                "azdata_cell_guid": "e73a7699-3254-42c0-9893-cdc592b4f115"
            },
            "outputs": [
                {
                    "output_type": "display_data",
                    "data": {
                        "text/html": "(12 rows affected)"
                    },
                    "metadata": {}
                },
                {
                    "output_type": "display_data",
                    "data": {
                        "text/html": "Total execution time: 00:00:00.020"
                    },
                    "metadata": {}
                },
                {
                    "output_type": "execute_result",
                    "execution_count": 13,
                    "data": {
                        "application/vnd.dataresource+json": {
                            "schema": {
                                "fields": [
                                    {
                                        "name": "Mes"
                                    },
                                    {
                                        "name": "CantidadVendida"
                                    },
                                    {
                                        "name": "TotalVendido"
                                    }
                                ]
                            },
                            "data": [
                                {
                                    "Mes": "1",
                                    "CantidadVendida": "4765",
                                    "TotalVendido": "98234121"
                                },
                                {
                                    "Mes": "2",
                                    "CantidadVendida": "4275",
                                    "TotalVendido": "84364100"
                                },
                                {
                                    "Mes": "3",
                                    "CantidadVendida": "4755",
                                    "TotalVendido": "94771905"
                                },
                                {
                                    "Mes": "4",
                                    "CantidadVendida": "4330",
                                    "TotalVendido": "87577594"
                                },
                                {
                                    "Mes": "5",
                                    "CantidadVendida": "4870",
                                    "TotalVendido": "100075070"
                                },
                                {
                                    "Mes": "6",
                                    "CantidadVendida": "4323",
                                    "TotalVendido": "89266368"
                                },
                                {
                                    "Mes": "7",
                                    "CantidadVendida": "5033",
                                    "TotalVendido": "100659407"
                                },
                                {
                                    "Mes": "8",
                                    "CantidadVendida": "4734",
                                    "TotalVendido": "98035923"
                                },
                                {
                                    "Mes": "9",
                                    "CantidadVendida": "4182",
                                    "TotalVendido": "81881727"
                                },
                                {
                                    "Mes": "10",
                                    "CantidadVendida": "4882",
                                    "TotalVendido": "101283057"
                                },
                                {
                                    "Mes": "11",
                                    "CantidadVendida": "4364",
                                    "TotalVendido": "88951258"
                                },
                                {
                                    "Mes": "12",
                                    "CantidadVendida": "4494",
                                    "TotalVendido": "90497789"
                                }
                            ]
                        },
                        "text/html": "<table><tr><th>Mes</th><th>CantidadVendida</th><th>TotalVendido</th></tr><tr><td>1</td><td>4765</td><td>98234121</td></tr><tr><td>2</td><td>4275</td><td>84364100</td></tr><tr><td>3</td><td>4755</td><td>94771905</td></tr><tr><td>4</td><td>4330</td><td>87577594</td></tr><tr><td>5</td><td>4870</td><td>100075070</td></tr><tr><td>6</td><td>4323</td><td>89266368</td></tr><tr><td>7</td><td>5033</td><td>100659407</td></tr><tr><td>8</td><td>4734</td><td>98035923</td></tr><tr><td>9</td><td>4182</td><td>81881727</td></tr><tr><td>10</td><td>4882</td><td>101283057</td></tr><tr><td>11</td><td>4364</td><td>88951258</td></tr><tr><td>12</td><td>4494</td><td>90497789</td></tr></table>"
                    },
                    "metadata": {}
                }
            ],
            "execution_count": 13
        },
        {
            "cell_type": "code",
            "source": [
                "SELECT\r\n",
                "    maina.Mes,\r\n",
                "    maina.Familia,\r\n",
                "    CAST(CAST(maina.TotalVendido AS DECIMAL) / CAST(mainb.TotalVendidoMensual AS DECIMAL) * 100 AS INT) AS PorcentajeTotal,\r\n",
                "    CAST(CAST(maina.CantidadVendida AS DECIMAL) / CAST(mainb.CantidadVendidaMensual AS DECIMAL) * 100 AS INT) AS PorcentajeCantidad\r\n",
                "FROM\r\n",
                "(SELECT\r\n",
                "    [b].[mes]\r\n",
                "    ,[c].[Familia]\r\n",
                "    ,SUM([a].[Cantidad]) AS [CantidadVendida]\r\n",
                "    ,SUM([a].[Total])  AS [TotalVendido]\r\n",
                "FROM [Americans_DW].[dbo].[FACT_DetalleVenta] AS [a]\r\n",
                "JOIN [Americans_DW].[dbo].[DIM_Fecha] AS [b] \r\n",
                "    ON [a].[FechaID] = [b].[FechaID]\r\n",
                "JOIN [Americans_DW].[dbo].[DIM_Articulo] AS [c] \r\n",
                "    ON [a].[ArticuloID] = [c].[ArticuloID]\r\n",
                "GROUP BY [b].[mes], [c].[Familia]) AS maina\r\n",
                "JOIN\r\n",
                "(SELECT\r\n",
                "    [b].[Mes]\r\n",
                "    ,SUM([a].[Cantidad]) AS [CantidadVendidaMensual]\r\n",
                "    ,SUM([a].[Total])  AS [TotalVendidoMensual]\r\n",
                "FROM [Americans_DW].[dbo].[FACT_DetalleVenta] AS [a]\r\n",
                "JOIN [Americans_DW].[dbo].[DIM_Fecha] AS [b] \r\n",
                "    ON [a].[FechaID] = [b].[FechaID]\r\n",
                "JOIN [Americans_DW].[dbo].[DIM_Articulo] AS [c] \r\n",
                "    ON [a].[ArticuloID] = [c].[ArticuloID]\r\n",
                "GROUP BY [b].[Mes]) AS mainb\r\n",
                "ON maina.Mes = mainb.Mes\r\n",
                "ORDER BY maina.Mes, maina.Familia\r\n",
                ";"
            ],
            "metadata": {
                "language": "sql",
                "azdata_cell_guid": "a64a292b-9c41-435b-95f3-327afe09713b",
                "tags": []
            },
            "outputs": [
                {
                    "output_type": "display_data",
                    "data": {
                        "text/html": "(60 rows affected)"
                    },
                    "metadata": {}
                },
                {
                    "output_type": "display_data",
                    "data": {
                        "text/html": "Total execution time: 00:00:00.174"
                    },
                    "metadata": {}
                },
                {
                    "output_type": "execute_result",
                    "execution_count": 1,
                    "data": {
                        "application/vnd.dataresource+json": {
                            "schema": {
                                "fields": [
                                    {
                                        "name": "Mes"
                                    },
                                    {
                                        "name": "Familia"
                                    },
                                    {
                                        "name": "PorcentajeTotal"
                                    },
                                    {
                                        "name": "PorcentajeCantidad"
                                    }
                                ]
                            },
                            "data": [
                                {
                                    "Mes": "1",
                                    "Familia": "AVES",
                                    "PorcentajeTotal": "18",
                                    "PorcentajeCantidad": "18"
                                },
                                {
                                    "Mes": "1",
                                    "Familia": "GATOS",
                                    "PorcentajeTotal": "16",
                                    "PorcentajeCantidad": "15"
                                },
                                {
                                    "Mes": "1",
                                    "Familia": "HAMSTER",
                                    "PorcentajeTotal": "13",
                                    "PorcentajeCantidad": "9"
                                },
                                {
                                    "Mes": "1",
                                    "Familia": "PECES",
                                    "PorcentajeTotal": "13",
                                    "PorcentajeCantidad": "18"
                                },
                                {
                                    "Mes": "1",
                                    "Familia": "PERROS",
                                    "PorcentajeTotal": "37",
                                    "PorcentajeCantidad": "37"
                                },
                                {
                                    "Mes": "2",
                                    "Familia": "AVES",
                                    "PorcentajeTotal": "18",
                                    "PorcentajeCantidad": "18"
                                },
                                {
                                    "Mes": "2",
                                    "Familia": "GATOS",
                                    "PorcentajeTotal": "18",
                                    "PorcentajeCantidad": "16"
                                },
                                {
                                    "Mes": "2",
                                    "Familia": "HAMSTER",
                                    "PorcentajeTotal": "9",
                                    "PorcentajeCantidad": "7"
                                },
                                {
                                    "Mes": "2",
                                    "Familia": "PECES",
                                    "PorcentajeTotal": "14",
                                    "PorcentajeCantidad": "19"
                                },
                                {
                                    "Mes": "2",
                                    "Familia": "PERROS",
                                    "PorcentajeTotal": "39",
                                    "PorcentajeCantidad": "38"
                                },
                                {
                                    "Mes": "3",
                                    "Familia": "AVES",
                                    "PorcentajeTotal": "17",
                                    "PorcentajeCantidad": "17"
                                },
                                {
                                    "Mes": "3",
                                    "Familia": "GATOS",
                                    "PorcentajeTotal": "16",
                                    "PorcentajeCantidad": "14"
                                },
                                {
                                    "Mes": "3",
                                    "Familia": "HAMSTER",
                                    "PorcentajeTotal": "11",
                                    "PorcentajeCantidad": "8"
                                },
                                {
                                    "Mes": "3",
                                    "Familia": "PECES",
                                    "PorcentajeTotal": "16",
                                    "PorcentajeCantidad": "21"
                                },
                                {
                                    "Mes": "3",
                                    "Familia": "PERROS",
                                    "PorcentajeTotal": "38",
                                    "PorcentajeCantidad": "37"
                                },
                                {
                                    "Mes": "4",
                                    "Familia": "AVES",
                                    "PorcentajeTotal": "19",
                                    "PorcentajeCantidad": "17"
                                },
                                {
                                    "Mes": "4",
                                    "Familia": "GATOS",
                                    "PorcentajeTotal": "17",
                                    "PorcentajeCantidad": "15"
                                },
                                {
                                    "Mes": "4",
                                    "Familia": "HAMSTER",
                                    "PorcentajeTotal": "9",
                                    "PorcentajeCantidad": "7"
                                },
                                {
                                    "Mes": "4",
                                    "Familia": "PECES",
                                    "PorcentajeTotal": "12",
                                    "PorcentajeCantidad": "16"
                                },
                                {
                                    "Mes": "4",
                                    "Familia": "PERROS",
                                    "PorcentajeTotal": "40",
                                    "PorcentajeCantidad": "41"
                                },
                                {
                                    "Mes": "5",
                                    "Familia": "AVES",
                                    "PorcentajeTotal": "18",
                                    "PorcentajeCantidad": "18"
                                },
                                {
                                    "Mes": "5",
                                    "Familia": "GATOS",
                                    "PorcentajeTotal": "13",
                                    "PorcentajeCantidad": "12"
                                },
                                {
                                    "Mes": "5",
                                    "Familia": "HAMSTER",
                                    "PorcentajeTotal": "11",
                                    "PorcentajeCantidad": "8"
                                },
                                {
                                    "Mes": "5",
                                    "Familia": "PECES",
                                    "PorcentajeTotal": "15",
                                    "PorcentajeCantidad": "20"
                                },
                                {
                                    "Mes": "5",
                                    "Familia": "PERROS",
                                    "PorcentajeTotal": "41",
                                    "PorcentajeCantidad": "40"
                                },
                                {
                                    "Mes": "6",
                                    "Familia": "AVES",
                                    "PorcentajeTotal": "17",
                                    "PorcentajeCantidad": "17"
                                },
                                {
                                    "Mes": "6",
                                    "Familia": "GATOS",
                                    "PorcentajeTotal": "15",
                                    "PorcentajeCantidad": "13"
                                },
                                {
                                    "Mes": "6",
                                    "Familia": "HAMSTER",
                                    "PorcentajeTotal": "10",
                                    "PorcentajeCantidad": "7"
                                },
                                {
                                    "Mes": "6",
                                    "Familia": "PECES",
                                    "PorcentajeTotal": "14",
                                    "PorcentajeCantidad": "18"
                                },
                                {
                                    "Mes": "6",
                                    "Familia": "PERROS",
                                    "PorcentajeTotal": "41",
                                    "PorcentajeCantidad": "42"
                                },
                                {
                                    "Mes": "7",
                                    "Familia": "AVES",
                                    "PorcentajeTotal": "16",
                                    "PorcentajeCantidad": "15"
                                },
                                {
                                    "Mes": "7",
                                    "Familia": "GATOS",
                                    "PorcentajeTotal": "13",
                                    "PorcentajeCantidad": "13"
                                },
                                {
                                    "Mes": "7",
                                    "Familia": "HAMSTER",
                                    "PorcentajeTotal": "10",
                                    "PorcentajeCantidad": "7"
                                },
                                {
                                    "Mes": "7",
                                    "Familia": "PECES",
                                    "PorcentajeTotal": "14",
                                    "PorcentajeCantidad": "19"
                                },
                                {
                                    "Mes": "7",
                                    "Familia": "PERROS",
                                    "PorcentajeTotal": "44",
                                    "PorcentajeCantidad": "44"
                                },
                                {
                                    "Mes": "8",
                                    "Familia": "AVES",
                                    "PorcentajeTotal": "18",
                                    "PorcentajeCantidad": "17"
                                },
                                {
                                    "Mes": "8",
                                    "Familia": "GATOS",
                                    "PorcentajeTotal": "14",
                                    "PorcentajeCantidad": "14"
                                },
                                {
                                    "Mes": "8",
                                    "Familia": "HAMSTER",
                                    "PorcentajeTotal": "12",
                                    "PorcentajeCantidad": "9"
                                },
                                {
                                    "Mes": "8",
                                    "Familia": "PECES",
                                    "PorcentajeTotal": "11",
                                    "PorcentajeCantidad": "16"
                                },
                                {
                                    "Mes": "8",
                                    "Familia": "PERROS",
                                    "PorcentajeTotal": "42",
                                    "PorcentajeCantidad": "42"
                                },
                                {
                                    "Mes": "9",
                                    "Familia": "AVES",
                                    "PorcentajeTotal": "17",
                                    "PorcentajeCantidad": "16"
                                },
                                {
                                    "Mes": "9",
                                    "Familia": "GATOS",
                                    "PorcentajeTotal": "15",
                                    "PorcentajeCantidad": "13"
                                },
                                {
                                    "Mes": "9",
                                    "Familia": "HAMSTER",
                                    "PorcentajeTotal": "9",
                                    "PorcentajeCantidad": "7"
                                },
                                {
                                    "Mes": "9",
                                    "Familia": "PECES",
                                    "PorcentajeTotal": "15",
                                    "PorcentajeCantidad": "20"
                                },
                                {
                                    "Mes": "9",
                                    "Familia": "PERROS",
                                    "PorcentajeTotal": "41",
                                    "PorcentajeCantidad": "41"
                                },
                                {
                                    "Mes": "10",
                                    "Familia": "AVES",
                                    "PorcentajeTotal": "19",
                                    "PorcentajeCantidad": "18"
                                },
                                {
                                    "Mes": "10",
                                    "Familia": "GATOS",
                                    "PorcentajeTotal": "19",
                                    "PorcentajeCantidad": "18"
                                },
                                {
                                    "Mes": "10",
                                    "Familia": "HAMSTER",
                                    "PorcentajeTotal": "12",
                                    "PorcentajeCantidad": "9"
                                },
                                {
                                    "Mes": "10",
                                    "Familia": "PECES",
                                    "PorcentajeTotal": "13",
                                    "PorcentajeCantidad": "16"
                                },
                                {
                                    "Mes": "10",
                                    "Familia": "PERROS",
                                    "PorcentajeTotal": "35",
                                    "PorcentajeCantidad": "36"
                                },
                                {
                                    "Mes": "11",
                                    "Familia": "AVES",
                                    "PorcentajeTotal": "17",
                                    "PorcentajeCantidad": "17"
                                },
                                {
                                    "Mes": "11",
                                    "Familia": "GATOS",
                                    "PorcentajeTotal": "17",
                                    "PorcentajeCantidad": "16"
                                },
                                {
                                    "Mes": "11",
                                    "Familia": "HAMSTER",
                                    "PorcentajeTotal": "11",
                                    "PorcentajeCantidad": "8"
                                },
                                {
                                    "Mes": "11",
                                    "Familia": "PECES",
                                    "PorcentajeTotal": "15",
                                    "PorcentajeCantidad": "20"
                                },
                                {
                                    "Mes": "11",
                                    "Familia": "PERROS",
                                    "PorcentajeTotal": "38",
                                    "PorcentajeCantidad": "38"
                                },
                                {
                                    "Mes": "12",
                                    "Familia": "AVES",
                                    "PorcentajeTotal": "21",
                                    "PorcentajeCantidad": "20"
                                },
                                {
                                    "Mes": "12",
                                    "Familia": "GATOS",
                                    "PorcentajeTotal": "12",
                                    "PorcentajeCantidad": "12"
                                },
                                {
                                    "Mes": "12",
                                    "Familia": "HAMSTER",
                                    "PorcentajeTotal": "13",
                                    "PorcentajeCantidad": "10"
                                },
                                {
                                    "Mes": "12",
                                    "Familia": "PECES",
                                    "PorcentajeTotal": "13",
                                    "PorcentajeCantidad": "16"
                                },
                                {
                                    "Mes": "12",
                                    "Familia": "PERROS",
                                    "PorcentajeTotal": "39",
                                    "PorcentajeCantidad": "40"
                                }
                            ]
                        },
                        "text/html": "<table><tr><th>Mes</th><th>Familia</th><th>PorcentajeTotal</th><th>PorcentajeCantidad</th></tr><tr><td>1</td><td>AVES</td><td>18</td><td>18</td></tr><tr><td>1</td><td>GATOS</td><td>16</td><td>15</td></tr><tr><td>1</td><td>HAMSTER</td><td>13</td><td>9</td></tr><tr><td>1</td><td>PECES</td><td>13</td><td>18</td></tr><tr><td>1</td><td>PERROS</td><td>37</td><td>37</td></tr><tr><td>2</td><td>AVES</td><td>18</td><td>18</td></tr><tr><td>2</td><td>GATOS</td><td>18</td><td>16</td></tr><tr><td>2</td><td>HAMSTER</td><td>9</td><td>7</td></tr><tr><td>2</td><td>PECES</td><td>14</td><td>19</td></tr><tr><td>2</td><td>PERROS</td><td>39</td><td>38</td></tr><tr><td>3</td><td>AVES</td><td>17</td><td>17</td></tr><tr><td>3</td><td>GATOS</td><td>16</td><td>14</td></tr><tr><td>3</td><td>HAMSTER</td><td>11</td><td>8</td></tr><tr><td>3</td><td>PECES</td><td>16</td><td>21</td></tr><tr><td>3</td><td>PERROS</td><td>38</td><td>37</td></tr><tr><td>4</td><td>AVES</td><td>19</td><td>17</td></tr><tr><td>4</td><td>GATOS</td><td>17</td><td>15</td></tr><tr><td>4</td><td>HAMSTER</td><td>9</td><td>7</td></tr><tr><td>4</td><td>PECES</td><td>12</td><td>16</td></tr><tr><td>4</td><td>PERROS</td><td>40</td><td>41</td></tr><tr><td>5</td><td>AVES</td><td>18</td><td>18</td></tr><tr><td>5</td><td>GATOS</td><td>13</td><td>12</td></tr><tr><td>5</td><td>HAMSTER</td><td>11</td><td>8</td></tr><tr><td>5</td><td>PECES</td><td>15</td><td>20</td></tr><tr><td>5</td><td>PERROS</td><td>41</td><td>40</td></tr><tr><td>6</td><td>AVES</td><td>17</td><td>17</td></tr><tr><td>6</td><td>GATOS</td><td>15</td><td>13</td></tr><tr><td>6</td><td>HAMSTER</td><td>10</td><td>7</td></tr><tr><td>6</td><td>PECES</td><td>14</td><td>18</td></tr><tr><td>6</td><td>PERROS</td><td>41</td><td>42</td></tr><tr><td>7</td><td>AVES</td><td>16</td><td>15</td></tr><tr><td>7</td><td>GATOS</td><td>13</td><td>13</td></tr><tr><td>7</td><td>HAMSTER</td><td>10</td><td>7</td></tr><tr><td>7</td><td>PECES</td><td>14</td><td>19</td></tr><tr><td>7</td><td>PERROS</td><td>44</td><td>44</td></tr><tr><td>8</td><td>AVES</td><td>18</td><td>17</td></tr><tr><td>8</td><td>GATOS</td><td>14</td><td>14</td></tr><tr><td>8</td><td>HAMSTER</td><td>12</td><td>9</td></tr><tr><td>8</td><td>PECES</td><td>11</td><td>16</td></tr><tr><td>8</td><td>PERROS</td><td>42</td><td>42</td></tr><tr><td>9</td><td>AVES</td><td>17</td><td>16</td></tr><tr><td>9</td><td>GATOS</td><td>15</td><td>13</td></tr><tr><td>9</td><td>HAMSTER</td><td>9</td><td>7</td></tr><tr><td>9</td><td>PECES</td><td>15</td><td>20</td></tr><tr><td>9</td><td>PERROS</td><td>41</td><td>41</td></tr><tr><td>10</td><td>AVES</td><td>19</td><td>18</td></tr><tr><td>10</td><td>GATOS</td><td>19</td><td>18</td></tr><tr><td>10</td><td>HAMSTER</td><td>12</td><td>9</td></tr><tr><td>10</td><td>PECES</td><td>13</td><td>16</td></tr><tr><td>10</td><td>PERROS</td><td>35</td><td>36</td></tr><tr><td>11</td><td>AVES</td><td>17</td><td>17</td></tr><tr><td>11</td><td>GATOS</td><td>17</td><td>16</td></tr><tr><td>11</td><td>HAMSTER</td><td>11</td><td>8</td></tr><tr><td>11</td><td>PECES</td><td>15</td><td>20</td></tr><tr><td>11</td><td>PERROS</td><td>38</td><td>38</td></tr><tr><td>12</td><td>AVES</td><td>21</td><td>20</td></tr><tr><td>12</td><td>GATOS</td><td>12</td><td>12</td></tr><tr><td>12</td><td>HAMSTER</td><td>13</td><td>10</td></tr><tr><td>12</td><td>PECES</td><td>13</td><td>16</td></tr><tr><td>12</td><td>PERROS</td><td>39</td><td>40</td></tr></table>"
                    },
                    "metadata": {}
                }
            ],
            "execution_count": 1
        },
        {
            "cell_type": "code",
            "source": [
                "SELECT\r\n",
                "    maina.*\r\n",
                "    ,mainb.CantidadMensual\r\n",
                "    ,mainb.VentaMensual\r\n",
                "    ,mainc.CantidadFamilia\r\n",
                "    ,mainc.VentaFamilia\r\n",
                "FROM\r\n",
                "(SELECT\r\n",
                "    [b].[mes]\r\n",
                "    ,[c].[Familia]\r\n",
                "    ,SUM([a].[Cantidad]) AS [Cantidad]\r\n",
                "    ,SUM([a].[Total])  AS [Venta]\r\n",
                "FROM [Americans_DW].[dbo].[FACT_DetalleVenta] AS [a]\r\n",
                "JOIN [Americans_DW].[dbo].[DIM_Fecha] AS [b] \r\n",
                "    ON [a].[FechaID] = [b].[FechaID]\r\n",
                "JOIN [Americans_DW].[dbo].[DIM_Articulo] AS [c] \r\n",
                "    ON [a].[ArticuloID] = [c].[ArticuloID]\r\n",
                "GROUP BY [b].[mes], [c].[Familia]) AS maina\r\n",
                "JOIN\r\n",
                "(SELECT\r\n",
                "    [b].[Mes]\r\n",
                "    ,SUM([a].[Cantidad]) AS [CantidadMensual]\r\n",
                "    ,SUM([a].[Total])  AS [VentaMensual]\r\n",
                "FROM [Americans_DW].[dbo].[FACT_DetalleVenta] AS [a]\r\n",
                "JOIN [Americans_DW].[dbo].[DIM_Fecha] AS [b] \r\n",
                "    ON [a].[FechaID] = [b].[FechaID]\r\n",
                "JOIN [Americans_DW].[dbo].[DIM_Articulo] AS [c] \r\n",
                "    ON [a].[ArticuloID] = [c].[ArticuloID]\r\n",
                "GROUP BY [b].[Mes]) AS mainb\r\n",
                "ON maina.Mes = mainb.Mes\r\n",
                "JOIN\r\n",
                "(SELECT\r\n",
                "    [c].[Familia]\r\n",
                "    ,SUM([a].[Cantidad]) AS [CantidadFamilia]\r\n",
                "    ,SUM([a].[Total])  AS [VentaFamilia]\r\n",
                "FROM [Americans_DW].[dbo].[FACT_DetalleVenta] AS [a]\r\n",
                "JOIN [Americans_DW].[dbo].[DIM_Fecha] AS [b] \r\n",
                "    ON [a].[FechaID] = [b].[FechaID]\r\n",
                "JOIN [Americans_DW].[dbo].[DIM_Articulo] AS [c] \r\n",
                "    ON [a].[ArticuloID] = [c].[ArticuloID]\r\n",
                "GROUP BY [c].[Familia]) AS mainc\r\n",
                "ON maina.Familia = mainc.Familia\r\n",
                "ORDER BY maina.Mes, maina.Familia\r\n",
                ";"
            ],
            "metadata": {
                "language": "sql",
                "azdata_cell_guid": "2097381e-f353-40d6-b4f2-f41d0a11ac28"
            },
            "outputs": [
                {
                    "output_type": "display_data",
                    "data": {
                        "text/html": "(60 rows affected)"
                    },
                    "metadata": {}
                },
                {
                    "output_type": "display_data",
                    "data": {
                        "text/html": "Total execution time: 00:00:00.098"
                    },
                    "metadata": {}
                },
                {
                    "output_type": "execute_result",
                    "execution_count": 6,
                    "data": {
                        "application/vnd.dataresource+json": {
                            "schema": {
                                "fields": [
                                    {
                                        "name": "mes"
                                    },
                                    {
                                        "name": "Familia"
                                    },
                                    {
                                        "name": "Cantidad"
                                    },
                                    {
                                        "name": "Venta"
                                    },
                                    {
                                        "name": "CantidadMensual"
                                    },
                                    {
                                        "name": "VentaMensual"
                                    },
                                    {
                                        "name": "CantidadFamilia"
                                    },
                                    {
                                        "name": "VentaFamilia"
                                    }
                                ]
                            },
                            "data": [
                                {
                                    "mes": "1",
                                    "Familia": "AVES",
                                    "Cantidad": "881",
                                    "Venta": "17894718",
                                    "CantidadMensual": "4765",
                                    "VentaMensual": "98234121",
                                    "CantidadFamilia": "9796",
                                    "VentaFamilia": "205222598"
                                },
                                {
                                    "mes": "1",
                                    "Familia": "GATOS",
                                    "Cantidad": "746",
                                    "Venta": "16273594",
                                    "CantidadMensual": "4765",
                                    "VentaMensual": "98234121",
                                    "CantidadFamilia": "8095",
                                    "VentaFamilia": "177692168"
                                },
                                {
                                    "mes": "1",
                                    "Familia": "HAMSTER",
                                    "Cantidad": "470",
                                    "Venta": "13361476",
                                    "CantidadMensual": "4765",
                                    "VentaMensual": "98234121",
                                    "CantidadFamilia": "4710",
                                    "VentaFamilia": "128073346"
                                },
                                {
                                    "mes": "1",
                                    "Familia": "PECES",
                                    "Cantidad": "882",
                                    "Venta": "13740595",
                                    "CantidadMensual": "4765",
                                    "VentaMensual": "98234121",
                                    "CantidadFamilia": "10313",
                                    "VentaFamilia": "158629911"
                                },
                                {
                                    "mes": "1",
                                    "Familia": "PERROS",
                                    "Cantidad": "1786",
                                    "Venta": "36963738",
                                    "CantidadMensual": "4765",
                                    "VentaMensual": "98234121",
                                    "CantidadFamilia": "22093",
                                    "VentaFamilia": "445980296"
                                },
                                {
                                    "mes": "2",
                                    "Familia": "AVES",
                                    "Cantidad": "794",
                                    "Venta": "15565296",
                                    "CantidadMensual": "4275",
                                    "VentaMensual": "84364100",
                                    "CantidadFamilia": "9796",
                                    "VentaFamilia": "205222598"
                                },
                                {
                                    "mes": "2",
                                    "Familia": "GATOS",
                                    "Cantidad": "686",
                                    "Venta": "15472666",
                                    "CantidadMensual": "4275",
                                    "VentaMensual": "84364100",
                                    "CantidadFamilia": "8095",
                                    "VentaFamilia": "177692168"
                                },
                                {
                                    "mes": "2",
                                    "Familia": "HAMSTER",
                                    "Cantidad": "313",
                                    "Venta": "8017492",
                                    "CantidadMensual": "4275",
                                    "VentaMensual": "84364100",
                                    "CantidadFamilia": "4710",
                                    "VentaFamilia": "128073346"
                                },
                                {
                                    "mes": "2",
                                    "Familia": "PECES",
                                    "Cantidad": "815",
                                    "Venta": "12128136",
                                    "CantidadMensual": "4275",
                                    "VentaMensual": "84364100",
                                    "CantidadFamilia": "10313",
                                    "VentaFamilia": "158629911"
                                },
                                {
                                    "mes": "2",
                                    "Familia": "PERROS",
                                    "Cantidad": "1667",
                                    "Venta": "33180510",
                                    "CantidadMensual": "4275",
                                    "VentaMensual": "84364100",
                                    "CantidadFamilia": "22093",
                                    "VentaFamilia": "445980296"
                                },
                                {
                                    "mes": "3",
                                    "Familia": "AVES",
                                    "Cantidad": "846",
                                    "Venta": "16676327",
                                    "CantidadMensual": "4755",
                                    "VentaMensual": "94771905",
                                    "CantidadFamilia": "9796",
                                    "VentaFamilia": "205222598"
                                },
                                {
                                    "mes": "3",
                                    "Familia": "GATOS",
                                    "Cantidad": "708",
                                    "Venta": "15477612",
                                    "CantidadMensual": "4755",
                                    "VentaMensual": "94771905",
                                    "CantidadFamilia": "8095",
                                    "VentaFamilia": "177692168"
                                },
                                {
                                    "mes": "3",
                                    "Familia": "HAMSTER",
                                    "Cantidad": "406",
                                    "Venta": "10938161",
                                    "CantidadMensual": "4755",
                                    "VentaMensual": "94771905",
                                    "CantidadFamilia": "4710",
                                    "VentaFamilia": "128073346"
                                },
                                {
                                    "mes": "3",
                                    "Familia": "PECES",
                                    "Cantidad": "1012",
                                    "Venta": "15582358",
                                    "CantidadMensual": "4755",
                                    "VentaMensual": "94771905",
                                    "CantidadFamilia": "10313",
                                    "VentaFamilia": "158629911"
                                },
                                {
                                    "mes": "3",
                                    "Familia": "PERROS",
                                    "Cantidad": "1783",
                                    "Venta": "36097447",
                                    "CantidadMensual": "4755",
                                    "VentaMensual": "94771905",
                                    "CantidadFamilia": "22093",
                                    "VentaFamilia": "445980296"
                                },
                                {
                                    "mes": "4",
                                    "Familia": "AVES",
                                    "Cantidad": "771",
                                    "Venta": "17006743",
                                    "CantidadMensual": "4330",
                                    "VentaMensual": "87577594",
                                    "CantidadFamilia": "9796",
                                    "VentaFamilia": "205222598"
                                },
                                {
                                    "mes": "4",
                                    "Familia": "GATOS",
                                    "Cantidad": "683",
                                    "Venta": "15309317",
                                    "CantidadMensual": "4330",
                                    "VentaMensual": "87577594",
                                    "CantidadFamilia": "8095",
                                    "VentaFamilia": "177692168"
                                },
                                {
                                    "mes": "4",
                                    "Familia": "HAMSTER",
                                    "Cantidad": "334",
                                    "Venta": "8551260",
                                    "CantidadMensual": "4330",
                                    "VentaMensual": "87577594",
                                    "CantidadFamilia": "4710",
                                    "VentaFamilia": "128073346"
                                },
                                {
                                    "mes": "4",
                                    "Familia": "PECES",
                                    "Cantidad": "729",
                                    "Venta": "10990002",
                                    "CantidadMensual": "4330",
                                    "VentaMensual": "87577594",
                                    "CantidadFamilia": "10313",
                                    "VentaFamilia": "158629911"
                                },
                                {
                                    "mes": "4",
                                    "Familia": "PERROS",
                                    "Cantidad": "1813",
                                    "Venta": "35720272",
                                    "CantidadMensual": "4330",
                                    "VentaMensual": "87577594",
                                    "CantidadFamilia": "22093",
                                    "VentaFamilia": "445980296"
                                },
                                {
                                    "mes": "5",
                                    "Familia": "AVES",
                                    "Cantidad": "883",
                                    "Venta": "18022263",
                                    "CantidadMensual": "4870",
                                    "VentaMensual": "100075070",
                                    "CantidadFamilia": "9796",
                                    "VentaFamilia": "205222598"
                                },
                                {
                                    "mes": "5",
                                    "Familia": "GATOS",
                                    "Cantidad": "586",
                                    "Venta": "13618828",
                                    "CantidadMensual": "4870",
                                    "VentaMensual": "100075070",
                                    "CantidadFamilia": "8095",
                                    "VentaFamilia": "177692168"
                                },
                                {
                                    "mes": "5",
                                    "Familia": "HAMSTER",
                                    "Cantidad": "405",
                                    "Venta": "11136028",
                                    "CantidadMensual": "4870",
                                    "VentaMensual": "100075070",
                                    "CantidadFamilia": "4710",
                                    "VentaFamilia": "128073346"
                                },
                                {
                                    "mes": "5",
                                    "Familia": "PECES",
                                    "Cantidad": "1016",
                                    "Venta": "15790498",
                                    "CantidadMensual": "4870",
                                    "VentaMensual": "100075070",
                                    "CantidadFamilia": "10313",
                                    "VentaFamilia": "158629911"
                                },
                                {
                                    "mes": "5",
                                    "Familia": "PERROS",
                                    "Cantidad": "1980",
                                    "Venta": "41507453",
                                    "CantidadMensual": "4870",
                                    "VentaMensual": "100075070",
                                    "CantidadFamilia": "22093",
                                    "VentaFamilia": "445980296"
                                },
                                {
                                    "mes": "6",
                                    "Familia": "AVES",
                                    "Cantidad": "740",
                                    "Venta": "15878052",
                                    "CantidadMensual": "4323",
                                    "VentaMensual": "89266368",
                                    "CantidadFamilia": "9796",
                                    "VentaFamilia": "205222598"
                                },
                                {
                                    "mes": "6",
                                    "Familia": "GATOS",
                                    "Cantidad": "591",
                                    "Venta": "13636085",
                                    "CantidadMensual": "4323",
                                    "VentaMensual": "89266368",
                                    "CantidadFamilia": "8095",
                                    "VentaFamilia": "177692168"
                                },
                                {
                                    "mes": "6",
                                    "Familia": "HAMSTER",
                                    "Cantidad": "345",
                                    "Venta": "9816426",
                                    "CantidadMensual": "4323",
                                    "VentaMensual": "89266368",
                                    "CantidadFamilia": "4710",
                                    "VentaFamilia": "128073346"
                                },
                                {
                                    "mes": "6",
                                    "Familia": "PECES",
                                    "Cantidad": "820",
                                    "Venta": "12971256",
                                    "CantidadMensual": "4323",
                                    "VentaMensual": "89266368",
                                    "CantidadFamilia": "10313",
                                    "VentaFamilia": "158629911"
                                },
                                {
                                    "mes": "6",
                                    "Familia": "PERROS",
                                    "Cantidad": "1827",
                                    "Venta": "36964549",
                                    "CantidadMensual": "4323",
                                    "VentaMensual": "89266368",
                                    "CantidadFamilia": "22093",
                                    "VentaFamilia": "445980296"
                                },
                                {
                                    "mes": "7",
                                    "Familia": "AVES",
                                    "Cantidad": "795",
                                    "Venta": "16962627",
                                    "CantidadMensual": "5033",
                                    "VentaMensual": "100659407",
                                    "CantidadFamilia": "9796",
                                    "VentaFamilia": "205222598"
                                },
                                {
                                    "mes": "7",
                                    "Familia": "GATOS",
                                    "Cantidad": "665",
                                    "Venta": "13913043",
                                    "CantidadMensual": "5033",
                                    "VentaMensual": "100659407",
                                    "CantidadFamilia": "8095",
                                    "VentaFamilia": "177692168"
                                },
                                {
                                    "mes": "7",
                                    "Familia": "HAMSTER",
                                    "Cantidad": "386",
                                    "Venta": "10482493",
                                    "CantidadMensual": "5033",
                                    "VentaMensual": "100659407",
                                    "CantidadFamilia": "4710",
                                    "VentaFamilia": "128073346"
                                },
                                {
                                    "mes": "7",
                                    "Familia": "PECES",
                                    "Cantidad": "958",
                                    "Venta": "14196521",
                                    "CantidadMensual": "5033",
                                    "VentaMensual": "100659407",
                                    "CantidadFamilia": "10313",
                                    "VentaFamilia": "158629911"
                                },
                                {
                                    "mes": "7",
                                    "Familia": "PERROS",
                                    "Cantidad": "2229",
                                    "Venta": "45104723",
                                    "CantidadMensual": "5033",
                                    "VentaMensual": "100659407",
                                    "CantidadFamilia": "22093",
                                    "VentaFamilia": "445980296"
                                },
                                {
                                    "mes": "8",
                                    "Familia": "AVES",
                                    "Cantidad": "823",
                                    "Venta": "18029479",
                                    "CantidadMensual": "4734",
                                    "VentaMensual": "98035923",
                                    "CantidadFamilia": "9796",
                                    "VentaFamilia": "205222598"
                                },
                                {
                                    "mes": "8",
                                    "Familia": "GATOS",
                                    "Cantidad": "670",
                                    "Venta": "14404317",
                                    "CantidadMensual": "4734",
                                    "VentaMensual": "98035923",
                                    "CantidadFamilia": "8095",
                                    "VentaFamilia": "177692168"
                                },
                                {
                                    "mes": "8",
                                    "Familia": "HAMSTER",
                                    "Cantidad": "462",
                                    "Venta": "12478095",
                                    "CantidadMensual": "4734",
                                    "VentaMensual": "98035923",
                                    "CantidadFamilia": "4710",
                                    "VentaFamilia": "128073346"
                                },
                                {
                                    "mes": "8",
                                    "Familia": "PECES",
                                    "Cantidad": "771",
                                    "Venta": "11667858",
                                    "CantidadMensual": "4734",
                                    "VentaMensual": "98035923",
                                    "CantidadFamilia": "10313",
                                    "VentaFamilia": "158629911"
                                },
                                {
                                    "mes": "8",
                                    "Familia": "PERROS",
                                    "Cantidad": "2008",
                                    "Venta": "41456174",
                                    "CantidadMensual": "4734",
                                    "VentaMensual": "98035923",
                                    "CantidadFamilia": "22093",
                                    "VentaFamilia": "445980296"
                                },
                                {
                                    "mes": "9",
                                    "Familia": "AVES",
                                    "Cantidad": "683",
                                    "Venta": "14212723",
                                    "CantidadMensual": "4182",
                                    "VentaMensual": "81881727",
                                    "CantidadFamilia": "9796",
                                    "VentaFamilia": "205222598"
                                },
                                {
                                    "mes": "9",
                                    "Familia": "GATOS",
                                    "Cantidad": "580",
                                    "Venta": "12940079",
                                    "CantidadMensual": "4182",
                                    "VentaMensual": "81881727",
                                    "CantidadFamilia": "8095",
                                    "VentaFamilia": "177692168"
                                },
                                {
                                    "mes": "9",
                                    "Familia": "HAMSTER",
                                    "Cantidad": "318",
                                    "Venta": "8130613",
                                    "CantidadMensual": "4182",
                                    "VentaMensual": "81881727",
                                    "CantidadFamilia": "4710",
                                    "VentaFamilia": "128073346"
                                },
                                {
                                    "mes": "9",
                                    "Familia": "PECES",
                                    "Cantidad": "872",
                                    "Venta": "12962545",
                                    "CantidadMensual": "4182",
                                    "VentaMensual": "81881727",
                                    "CantidadFamilia": "10313",
                                    "VentaFamilia": "158629911"
                                },
                                {
                                    "mes": "9",
                                    "Familia": "PERROS",
                                    "Cantidad": "1729",
                                    "Venta": "33635767",
                                    "CantidadMensual": "4182",
                                    "VentaMensual": "81881727",
                                    "CantidadFamilia": "22093",
                                    "VentaFamilia": "445980296"
                                },
                                {
                                    "mes": "10",
                                    "Familia": "AVES",
                                    "Cantidad": "919",
                                    "Venta": "19985614",
                                    "CantidadMensual": "4882",
                                    "VentaMensual": "101283057",
                                    "CantidadFamilia": "9796",
                                    "VentaFamilia": "205222598"
                                },
                                {
                                    "mes": "10",
                                    "Familia": "GATOS",
                                    "Cantidad": "892",
                                    "Venta": "19699508",
                                    "CantidadMensual": "4882",
                                    "VentaMensual": "101283057",
                                    "CantidadFamilia": "8095",
                                    "VentaFamilia": "177692168"
                                },
                                {
                                    "mes": "10",
                                    "Familia": "HAMSTER",
                                    "Cantidad": "471",
                                    "Venta": "12470015",
                                    "CantidadMensual": "4882",
                                    "VentaMensual": "101283057",
                                    "CantidadFamilia": "4710",
                                    "VentaFamilia": "128073346"
                                },
                                {
                                    "mes": "10",
                                    "Familia": "PECES",
                                    "Cantidad": "822",
                                    "Venta": "13170952",
                                    "CantidadMensual": "4882",
                                    "VentaMensual": "101283057",
                                    "CantidadFamilia": "10313",
                                    "VentaFamilia": "158629911"
                                },
                                {
                                    "mes": "10",
                                    "Familia": "PERROS",
                                    "Cantidad": "1778",
                                    "Venta": "35956968",
                                    "CantidadMensual": "4882",
                                    "VentaMensual": "101283057",
                                    "CantidadFamilia": "22093",
                                    "VentaFamilia": "445980296"
                                },
                                {
                                    "mes": "11",
                                    "Familia": "AVES",
                                    "Cantidad": "747",
                                    "Venta": "15284984",
                                    "CantidadMensual": "4364",
                                    "VentaMensual": "88951258",
                                    "CantidadFamilia": "9796",
                                    "VentaFamilia": "205222598"
                                },
                                {
                                    "mes": "11",
                                    "Familia": "GATOS",
                                    "Cantidad": "724",
                                    "Venta": "15811940",
                                    "CantidadMensual": "4364",
                                    "VentaMensual": "88951258",
                                    "CantidadFamilia": "8095",
                                    "VentaFamilia": "177692168"
                                },
                                {
                                    "mes": "11",
                                    "Familia": "HAMSTER",
                                    "Cantidad": "350",
                                    "Venta": "10273134",
                                    "CantidadMensual": "4364",
                                    "VentaMensual": "88951258",
                                    "CantidadFamilia": "4710",
                                    "VentaFamilia": "128073346"
                                },
                                {
                                    "mes": "11",
                                    "Familia": "PECES",
                                    "Cantidad": "873",
                                    "Venta": "13614004",
                                    "CantidadMensual": "4364",
                                    "VentaMensual": "88951258",
                                    "CantidadFamilia": "10313",
                                    "VentaFamilia": "158629911"
                                },
                                {
                                    "mes": "11",
                                    "Familia": "PERROS",
                                    "Cantidad": "1670",
                                    "Venta": "33967196",
                                    "CantidadMensual": "4364",
                                    "VentaMensual": "88951258",
                                    "CantidadFamilia": "22093",
                                    "VentaFamilia": "445980296"
                                },
                                {
                                    "mes": "12",
                                    "Familia": "AVES",
                                    "Cantidad": "914",
                                    "Venta": "19703772",
                                    "CantidadMensual": "4494",
                                    "VentaMensual": "90497789",
                                    "CantidadFamilia": "9796",
                                    "VentaFamilia": "205222598"
                                },
                                {
                                    "mes": "12",
                                    "Familia": "GATOS",
                                    "Cantidad": "564",
                                    "Venta": "11135179",
                                    "CantidadMensual": "4494",
                                    "VentaMensual": "90497789",
                                    "CantidadFamilia": "8095",
                                    "VentaFamilia": "177692168"
                                },
                                {
                                    "mes": "12",
                                    "Familia": "HAMSTER",
                                    "Cantidad": "450",
                                    "Venta": "12418153",
                                    "CantidadMensual": "4494",
                                    "VentaMensual": "90497789",
                                    "CantidadFamilia": "4710",
                                    "VentaFamilia": "128073346"
                                },
                                {
                                    "mes": "12",
                                    "Familia": "PECES",
                                    "Cantidad": "743",
                                    "Venta": "11815186",
                                    "CantidadMensual": "4494",
                                    "VentaMensual": "90497789",
                                    "CantidadFamilia": "10313",
                                    "VentaFamilia": "158629911"
                                },
                                {
                                    "mes": "12",
                                    "Familia": "PERROS",
                                    "Cantidad": "1823",
                                    "Venta": "35425499",
                                    "CantidadMensual": "4494",
                                    "VentaMensual": "90497789",
                                    "CantidadFamilia": "22093",
                                    "VentaFamilia": "445980296"
                                }
                            ]
                        },
                        "text/html": "<table><tr><th>mes</th><th>Familia</th><th>Cantidad</th><th>Venta</th><th>CantidadMensual</th><th>VentaMensual</th><th>CantidadFamilia</th><th>VentaFamilia</th></tr><tr><td>1</td><td>AVES</td><td>881</td><td>17894718</td><td>4765</td><td>98234121</td><td>9796</td><td>205222598</td></tr><tr><td>1</td><td>GATOS</td><td>746</td><td>16273594</td><td>4765</td><td>98234121</td><td>8095</td><td>177692168</td></tr><tr><td>1</td><td>HAMSTER</td><td>470</td><td>13361476</td><td>4765</td><td>98234121</td><td>4710</td><td>128073346</td></tr><tr><td>1</td><td>PECES</td><td>882</td><td>13740595</td><td>4765</td><td>98234121</td><td>10313</td><td>158629911</td></tr><tr><td>1</td><td>PERROS</td><td>1786</td><td>36963738</td><td>4765</td><td>98234121</td><td>22093</td><td>445980296</td></tr><tr><td>2</td><td>AVES</td><td>794</td><td>15565296</td><td>4275</td><td>84364100</td><td>9796</td><td>205222598</td></tr><tr><td>2</td><td>GATOS</td><td>686</td><td>15472666</td><td>4275</td><td>84364100</td><td>8095</td><td>177692168</td></tr><tr><td>2</td><td>HAMSTER</td><td>313</td><td>8017492</td><td>4275</td><td>84364100</td><td>4710</td><td>128073346</td></tr><tr><td>2</td><td>PECES</td><td>815</td><td>12128136</td><td>4275</td><td>84364100</td><td>10313</td><td>158629911</td></tr><tr><td>2</td><td>PERROS</td><td>1667</td><td>33180510</td><td>4275</td><td>84364100</td><td>22093</td><td>445980296</td></tr><tr><td>3</td><td>AVES</td><td>846</td><td>16676327</td><td>4755</td><td>94771905</td><td>9796</td><td>205222598</td></tr><tr><td>3</td><td>GATOS</td><td>708</td><td>15477612</td><td>4755</td><td>94771905</td><td>8095</td><td>177692168</td></tr><tr><td>3</td><td>HAMSTER</td><td>406</td><td>10938161</td><td>4755</td><td>94771905</td><td>4710</td><td>128073346</td></tr><tr><td>3</td><td>PECES</td><td>1012</td><td>15582358</td><td>4755</td><td>94771905</td><td>10313</td><td>158629911</td></tr><tr><td>3</td><td>PERROS</td><td>1783</td><td>36097447</td><td>4755</td><td>94771905</td><td>22093</td><td>445980296</td></tr><tr><td>4</td><td>AVES</td><td>771</td><td>17006743</td><td>4330</td><td>87577594</td><td>9796</td><td>205222598</td></tr><tr><td>4</td><td>GATOS</td><td>683</td><td>15309317</td><td>4330</td><td>87577594</td><td>8095</td><td>177692168</td></tr><tr><td>4</td><td>HAMSTER</td><td>334</td><td>8551260</td><td>4330</td><td>87577594</td><td>4710</td><td>128073346</td></tr><tr><td>4</td><td>PECES</td><td>729</td><td>10990002</td><td>4330</td><td>87577594</td><td>10313</td><td>158629911</td></tr><tr><td>4</td><td>PERROS</td><td>1813</td><td>35720272</td><td>4330</td><td>87577594</td><td>22093</td><td>445980296</td></tr><tr><td>5</td><td>AVES</td><td>883</td><td>18022263</td><td>4870</td><td>100075070</td><td>9796</td><td>205222598</td></tr><tr><td>5</td><td>GATOS</td><td>586</td><td>13618828</td><td>4870</td><td>100075070</td><td>8095</td><td>177692168</td></tr><tr><td>5</td><td>HAMSTER</td><td>405</td><td>11136028</td><td>4870</td><td>100075070</td><td>4710</td><td>128073346</td></tr><tr><td>5</td><td>PECES</td><td>1016</td><td>15790498</td><td>4870</td><td>100075070</td><td>10313</td><td>158629911</td></tr><tr><td>5</td><td>PERROS</td><td>1980</td><td>41507453</td><td>4870</td><td>100075070</td><td>22093</td><td>445980296</td></tr><tr><td>6</td><td>AVES</td><td>740</td><td>15878052</td><td>4323</td><td>89266368</td><td>9796</td><td>205222598</td></tr><tr><td>6</td><td>GATOS</td><td>591</td><td>13636085</td><td>4323</td><td>89266368</td><td>8095</td><td>177692168</td></tr><tr><td>6</td><td>HAMSTER</td><td>345</td><td>9816426</td><td>4323</td><td>89266368</td><td>4710</td><td>128073346</td></tr><tr><td>6</td><td>PECES</td><td>820</td><td>12971256</td><td>4323</td><td>89266368</td><td>10313</td><td>158629911</td></tr><tr><td>6</td><td>PERROS</td><td>1827</td><td>36964549</td><td>4323</td><td>89266368</td><td>22093</td><td>445980296</td></tr><tr><td>7</td><td>AVES</td><td>795</td><td>16962627</td><td>5033</td><td>100659407</td><td>9796</td><td>205222598</td></tr><tr><td>7</td><td>GATOS</td><td>665</td><td>13913043</td><td>5033</td><td>100659407</td><td>8095</td><td>177692168</td></tr><tr><td>7</td><td>HAMSTER</td><td>386</td><td>10482493</td><td>5033</td><td>100659407</td><td>4710</td><td>128073346</td></tr><tr><td>7</td><td>PECES</td><td>958</td><td>14196521</td><td>5033</td><td>100659407</td><td>10313</td><td>158629911</td></tr><tr><td>7</td><td>PERROS</td><td>2229</td><td>45104723</td><td>5033</td><td>100659407</td><td>22093</td><td>445980296</td></tr><tr><td>8</td><td>AVES</td><td>823</td><td>18029479</td><td>4734</td><td>98035923</td><td>9796</td><td>205222598</td></tr><tr><td>8</td><td>GATOS</td><td>670</td><td>14404317</td><td>4734</td><td>98035923</td><td>8095</td><td>177692168</td></tr><tr><td>8</td><td>HAMSTER</td><td>462</td><td>12478095</td><td>4734</td><td>98035923</td><td>4710</td><td>128073346</td></tr><tr><td>8</td><td>PECES</td><td>771</td><td>11667858</td><td>4734</td><td>98035923</td><td>10313</td><td>158629911</td></tr><tr><td>8</td><td>PERROS</td><td>2008</td><td>41456174</td><td>4734</td><td>98035923</td><td>22093</td><td>445980296</td></tr><tr><td>9</td><td>AVES</td><td>683</td><td>14212723</td><td>4182</td><td>81881727</td><td>9796</td><td>205222598</td></tr><tr><td>9</td><td>GATOS</td><td>580</td><td>12940079</td><td>4182</td><td>81881727</td><td>8095</td><td>177692168</td></tr><tr><td>9</td><td>HAMSTER</td><td>318</td><td>8130613</td><td>4182</td><td>81881727</td><td>4710</td><td>128073346</td></tr><tr><td>9</td><td>PECES</td><td>872</td><td>12962545</td><td>4182</td><td>81881727</td><td>10313</td><td>158629911</td></tr><tr><td>9</td><td>PERROS</td><td>1729</td><td>33635767</td><td>4182</td><td>81881727</td><td>22093</td><td>445980296</td></tr><tr><td>10</td><td>AVES</td><td>919</td><td>19985614</td><td>4882</td><td>101283057</td><td>9796</td><td>205222598</td></tr><tr><td>10</td><td>GATOS</td><td>892</td><td>19699508</td><td>4882</td><td>101283057</td><td>8095</td><td>177692168</td></tr><tr><td>10</td><td>HAMSTER</td><td>471</td><td>12470015</td><td>4882</td><td>101283057</td><td>4710</td><td>128073346</td></tr><tr><td>10</td><td>PECES</td><td>822</td><td>13170952</td><td>4882</td><td>101283057</td><td>10313</td><td>158629911</td></tr><tr><td>10</td><td>PERROS</td><td>1778</td><td>35956968</td><td>4882</td><td>101283057</td><td>22093</td><td>445980296</td></tr><tr><td>11</td><td>AVES</td><td>747</td><td>15284984</td><td>4364</td><td>88951258</td><td>9796</td><td>205222598</td></tr><tr><td>11</td><td>GATOS</td><td>724</td><td>15811940</td><td>4364</td><td>88951258</td><td>8095</td><td>177692168</td></tr><tr><td>11</td><td>HAMSTER</td><td>350</td><td>10273134</td><td>4364</td><td>88951258</td><td>4710</td><td>128073346</td></tr><tr><td>11</td><td>PECES</td><td>873</td><td>13614004</td><td>4364</td><td>88951258</td><td>10313</td><td>158629911</td></tr><tr><td>11</td><td>PERROS</td><td>1670</td><td>33967196</td><td>4364</td><td>88951258</td><td>22093</td><td>445980296</td></tr><tr><td>12</td><td>AVES</td><td>914</td><td>19703772</td><td>4494</td><td>90497789</td><td>9796</td><td>205222598</td></tr><tr><td>12</td><td>GATOS</td><td>564</td><td>11135179</td><td>4494</td><td>90497789</td><td>8095</td><td>177692168</td></tr><tr><td>12</td><td>HAMSTER</td><td>450</td><td>12418153</td><td>4494</td><td>90497789</td><td>4710</td><td>128073346</td></tr><tr><td>12</td><td>PECES</td><td>743</td><td>11815186</td><td>4494</td><td>90497789</td><td>10313</td><td>158629911</td></tr><tr><td>12</td><td>PERROS</td><td>1823</td><td>35425499</td><td>4494</td><td>90497789</td><td>22093</td><td>445980296</td></tr></table>"
                    },
                    "metadata": {}
                }
            ],
            "execution_count": 6
        }
    ]
}